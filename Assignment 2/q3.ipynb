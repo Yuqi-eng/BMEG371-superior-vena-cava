{
 "cells": [
  {
   "cell_type": "markdown",
   "id": "authentic-title",
   "metadata": {},
   "source": [
    "# Explicit forward time central space scheme \n",
    "\n",
    "The below code solves the turkey question\n",
    "\n",
    "$$ \\left\\{ \\begin{aligned} \\frac{\\partial w}{\\partial t} &= D \\frac{1}{r^2}\\partial (r^2\\frac{\\partial w}{\\partial r}) \\\\ w(r, 0) &= 0 \\\\ w(0.1, t) &= 150\\end{aligned} \\right. $$\n",
    "\n",
    "using an explicit forward time central-space scheme."
   ]
  },
  {
   "cell_type": "code",
   "execution_count": 1,
   "id": "proud-summer",
   "metadata": {},
   "outputs": [
    {
     "data": {
      "text/html": [
       "<style>.container { width:100% !important; }</style>"
      ],
      "text/plain": [
       "<IPython.core.display.HTML object>"
      ]
     },
     "metadata": {},
     "output_type": "display_data"
    }
   ],
   "source": [
    "%load_ext autoreload\n",
    "%autoreload 2\n",
    "\n",
    "import sys, os\n",
    "import numpy as np\n",
    "import matplotlib.pyplot as plt\n",
    "\n",
    "import numpy as np\n",
    "import scipy as sp\n",
    "import scipy.sparse as sps\n",
    "import scipy.sparse.linalg as LAS\n",
    "\n",
    "from IPython.core.display import display, HTML\n",
    "display(HTML(\"<style>.container { width:100% !important; }</style>\"))"
   ]
  },
  {
   "cell_type": "code",
   "execution_count": 17,
   "id": "primary-easter",
   "metadata": {},
   "outputs": [
    {
     "name": "stdout",
     "output_type": "stream",
     "text": [
      "h =  0.005\n",
      "D k / h2 =  0.19999999999999998\n",
      "yo im cooked\n",
      "5.597222222222222 hours\n"
     ]
    },
    {
     "data": {
      "text/plain": [
       "[<matplotlib.lines.Line2D at 0x7f2474105460>]"
      ]
     },
     "execution_count": 17,
     "metadata": {},
     "output_type": "execute_result"
    },
    {
     "data": {
      "image/png": "[encoded data removed]",
      "text/plain": [
       "<Figure size 432x288 with 1 Axes>"
      ]
     },
     "metadata": {
      "needs_background": "light"
     },
     "output_type": "display_data"
    }
   ],
   "source": [
    "# Setup basic domain\n",
    "R = 0.1\n",
    "D = 1e-7\n",
    "\n",
    "N = 20     # Number of lattice points\n",
    "h = R / N  # Spatial step size\n",
    "\n",
    "# Create the x-grid\n",
    "x = np.linspace(0, R, N+1)\n",
    "\n",
    "# Setup final solution time + time-step\n",
    "tf = 1000000\n",
    "k  = 50\n",
    "n_steps = round(tf / k)\n",
    "\n",
    "# Print the stability condition; Recall that this ratio must be less than 1/2\n",
    "print('h = ', h)\n",
    "print('D k / h2 = ', (D * k / h**2))\n",
    "\n",
    "# Create initial condition\n",
    "w  = np.zeros(N + 1)\n",
    "\n",
    "# Set initial condition\n",
    "w[N] = 150\n",
    "\n",
    "for j in range(n_steps):\n",
    "    u = w\n",
    "    for i in range(1, N+1):\n",
    "        d1 = (D * k / h**2) * np.ones(N)\n",
    "        d2 = ((D * k / h**2) * (-2 - 2 / i) + 1)  * np.ones(N+1)\n",
    "        d3 = ((D * k / h**2) * (1 + 2/i)) * np.ones(N)\n",
    "        A = sps.diags((d1, d2, d3), offsets=(-1, 0, 1))\n",
    "        w[i-1] = (A.dot(u))[i-1]\n",
    "    \n",
    "    if w[0] >= 75:\n",
    "        print(\"yo im cooked\")\n",
    "        print((j*k/60)/60, \"hours\")\n",
    "        break\n",
    "        \n",
    "    # enforce BC\n",
    "    w[N] = 150\n",
    "    w[0] = w[1]\n",
    "    \n",
    "plt.plot(x, w)"
   ]
  },
  {
   "cell_type": "code",
   "execution_count": 15,
   "id": "advised-edwards",
   "metadata": {},
   "outputs": [
    {
     "name": "stdout",
     "output_type": "stream",
     "text": [
      "h =  0.005\n",
      "D k / h2 =  0.19999999999999998\n",
      "yo im cooked kinda\n",
      "287.5\n",
      "yo im cooked for real\n",
      "55.0\n"
     ]
    },
    {
     "data": {
      "text/plain": [
       "[<matplotlib.lines.Line2D at 0x7f24741c0400>]"
      ]
     },
     "execution_count": 15,
     "metadata": {},
     "output_type": "execute_result"
    },
    {
     "data": {
      "image/png": "[encoded data removed]",
      "text/plain": [
       "<Figure size 432x288 with 1 Axes>"
      ]
     },
     "metadata": {
      "needs_background": "light"
     },
     "output_type": "display_data"
    }
   ],
   "source": [
    "# Setup basic domain\n",
    "R = 0.1\n",
    "D = 1e-7\n",
    "\n",
    "N = 20     # Number of lattice points\n",
    "h = R / N  # Spatial step size\n",
    "\n",
    "# Create the x-grid\n",
    "x = np.linspace(0, R, N+1)\n",
    "\n",
    "# Setup final solution time + time-step\n",
    "tf = 1000000\n",
    "k  = 50\n",
    "n_steps = round(tf / k)\n",
    "\n",
    "# Print the stability condition; Recall that this ratio must be less than 1/2\n",
    "print('h = ', h)\n",
    "print('D k / h2 = ', (D * k / h**2))\n",
    "\n",
    "# Create initial condition\n",
    "w  = np.zeros(N + 1)\n",
    "\n",
    "# Set initial condition\n",
    "w[N] = 150\n",
    "\n",
    "for j in range(n_steps):\n",
    "    u = w\n",
    "    for i in range(1, N+1):\n",
    "        d1 = (D * k / h**2) * np.ones(N)\n",
    "        d2 = ((D * k / h**2) * (-2 - 2 / i) + 1)  * np.ones(N+1)\n",
    "        d3 = ((D * k / h**2) * (1 + 2/i)) * np.ones(N)\n",
    "        A = sps.diags((d1, d2, d3), offsets=(-1, 0, 1))\n",
    "        w[i-1] = (A.dot(u))[i-1]\n",
    "    if w[0] >= 68.7:\n",
    "        print(\"yo im cooked kinda\")\n",
    "        print((j*k)/60)\n",
    "        break\n",
    "        \n",
    "    # enforce BC\n",
    "    w[N] = 150\n",
    "    w[0] = w[1]\n",
    "    \n",
    "w[N] = 30\n",
    "\n",
    "for j in range(n_steps):\n",
    "    u = w\n",
    "    for i in range(1, N+1):\n",
    "        d1 = (D * k / h**2) * np.ones(N)\n",
    "        d2 = ((D * k / h**2) * (-2 - 2 / i) + 1)  * np.ones(N+1)\n",
    "        d3 = ((D * k / h**2) * (1 + 2/i)) * np.ones(N)\n",
    "        A = sps.diags((d1, d2, d3), offsets=(-1, 0, 1))\n",
    "        w[i-1] = (A.dot(u))[i-1]\n",
    "    if w[0] >= 75:\n",
    "        print(\"yo im cooked for real\")\n",
    "        print((j*k)/60)\n",
    "        break\n",
    "    if w[0] <= 60:\n",
    "        print(\"uki, what have you done to me?\")\n",
    "        break\n",
    "        \n",
    "    # enforce BC\n",
    "    w[N] = 30\n",
    "    w[0] = w[1]\n",
    "\n",
    "plt.plot(x, w)"
   ]
  },
  {
   "cell_type": "code",
   "execution_count": null,
   "id": "4b8a46fd",
   "metadata": {},
   "outputs": [],
   "source": []
  }
 ],
 "metadata": {
  "kernelspec": {
   "display_name": "Python 3 (ipykernel)",
   "language": "python",
   "name": "python3"
  },
  "language_info": {
   "codemirror_mode": {
    "name": "ipython",
    "version": 3
   },
   "file_extension": ".py",
   "mimetype": "text/x-python",
   "name": "python",
   "nbconvert_exporter": "python",
   "pygments_lexer": "ipython3",
   "version": "3.9.6"
  }
 },
 "nbformat": 4,
 "nbformat_minor": 5
}
