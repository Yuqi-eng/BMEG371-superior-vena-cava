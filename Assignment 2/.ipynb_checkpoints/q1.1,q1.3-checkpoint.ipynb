{
 "cells": [
  {
   "cell_type": "code",
   "execution_count": 16,
   "id": "cd0251a3-0ccf-4b66-bd30-310e92a811a1",
   "metadata": {},
   "outputs": [
    {
     "name": "stdout",
     "output_type": "stream",
     "text": [
      "The autoreload extension is already loaded. To reload it, use:\n",
      "  %reload_ext autoreload\n"
     ]
    },
    {
     "data": {
      "text/html": [
       "<style>.container { width:100% !important; }</style>"
      ],
      "text/plain": [
       "<IPython.core.display.HTML object>"
      ]
     },
     "metadata": {},
     "output_type": "display_data"
    }
   ],
   "source": [
    "%load_ext autoreload\n",
    "%autoreload 2\n",
    "\n",
    "import sys, os\n",
    "import numpy as np\n",
    "import matplotlib.pyplot as plt\n",
    "\n",
    "import numpy as np\n",
    "import scipy as sp\n",
    "import scipy.sparse as sps\n",
    "import scipy.sparse.linalg as LAS\n",
    "\n",
    "from IPython.core.display import display, HTML\n",
    "display(HTML(\"<style>.container { width:100% !important; }</style>\"))"
   ]
  },
  {
   "cell_type": "code",
   "execution_count": 17,
   "id": "44171122-ce84-4f25-8230-7d2bb814a61f",
   "metadata": {},
   "outputs": [
    {
     "name": "stdout",
     "output_type": "stream",
     "text": [
      "h =  0.1\n",
      "D k / h2 =  0.09999999999999998\n",
      "t = 0:  [0.   0.09 0.16 0.21 0.24 0.25 0.24 0.21 0.16 0.09 0.  ]\n",
      "t = 0.005:  [0.00493484 0.04885708 0.09285583 0.12767612 0.14996968 0.15763824\n",
      " 0.14996968 0.12767612 0.09285583 0.04885708 0.00493484]\n",
      "t = 0.01:  [0.00301084 0.02981354 0.05670769 0.07804969 0.09175126 0.09647231\n",
      " 0.09175126 0.07804969 0.05670769 0.02981354 0.00301084]\n",
      "t = 0.02:  [0.00112578 0.01114759 0.02120397 0.02918476 0.03430874 0.03607435\n",
      " 0.03430874 0.02918476 0.02120397 0.01114759 0.00112578]\n",
      "t = 1:  [4.30285372e-07 4.26073438e-06 8.10439840e-06 1.11547474e-05\n",
      " 1.31131921e-05 1.37880261e-05 1.31131921e-05 1.11547474e-05\n",
      " 8.10439840e-06 4.26073438e-06 4.30285372e-07]\n"
     ]
    },
    {
     "data": {
      "image/png": "[encoded data removed]",
      "text/plain": [
       "<Figure size 432x288 with 1 Axes>"
      ]
     },
     "metadata": {
      "needs_background": "light"
     },
     "output_type": "display_data"
    }
   ],
   "source": [
    "# Setup basic domain\n",
    "L = 1\n",
    "D = 1\n",
    "\n",
    "N = 10    # Number of lattice points\n",
    "h = 0.1  # Spatial step size\n",
    "\n",
    "# Create the x-grid\n",
    "x = np.linspace(0, L, N+1)\n",
    "\n",
    "# Setup final solution time + time-step\n",
    "tf = 1\n",
    "k  = 0.001\n",
    "n_steps = round(tf / k)\n",
    "\n",
    "# Print the stability condition; Recall that this ratio must be less than 1/2\n",
    "print('h = ', h)\n",
    "print('D k / h2 = ', (D * k / h**2))\n",
    "\n",
    "# Setup to create a movie\n",
    "n_frames = 10\n",
    "frame_step = round(n_steps / n_frames)\n",
    "\n",
    "# Assemble the matrix\n",
    "d1 = (1.0 - (2. * D * k / h**2)) * np.ones(N+1)\n",
    "d2 = (D * k / h**2) * np.ones(N)\n",
    "\n",
    "# Assemble the matrices -> See documentation: https://docs.scipy.org/doc/scipy/reference/generated/scipy.sparse.diags.html\n",
    "A = sps.diags((d2, d1, d2), offsets=(-1, 0, 1))\n",
    "\n",
    "# Set initial condition\n",
    "w = np.multiply(x,1-x)\n",
    "u_t0 = w\n",
    "print(\"t = 0: \", u_t0)\n",
    "plt.scatter(x,w)\n",
    "\n",
    "for j in range(n_steps):\n",
    "    w[:] = A.dot(w)\n",
    "    if (j == 0.05*n_steps-1):\n",
    "        u_t005 = w\n",
    "        print(\"t = 0.005: \", u_t005)\n",
    "        plt.scatter(x, w)\n",
    "    if (j == 0.1*n_steps-1):\n",
    "        u_t01 = w\n",
    "        print(\"t = 0.01: \", u_t01)\n",
    "        plt.scatter(x, w)\n",
    "    if (j == 0.2*n_steps-1):\n",
    "        u_t02 = w\n",
    "        print(\"t = 0.02: \", u_t02)\n",
    "        plt.scatter(x, w)\n",
    "    if (j == 1*n_steps-1):\n",
    "        u_t1 = w\n",
    "        print(\"t = 1: \", u_t1)\n",
    "        plt.scatter(x, w)\n",
    "    # enforce BC\n",
    "    w[0] = 0\n",
    "    w[N] = 0"
   ]
  },
  {
   "cell_type": "code",
   "execution_count": 18,
   "id": "2bc1fc43-7e7f-4219-a596-fc8ba6dcb1a4",
   "metadata": {},
   "outputs": [
    {
     "name": "stdout",
     "output_type": "stream",
     "text": [
      "h =  0.1\n",
      "D k / h2 =  0.5199999999999999\n",
      "t = 0:  [0.   0.09 0.16 0.21 0.24 0.25 0.24 0.21 0.16 0.09 0.  ]\n",
      "t = 0.005:  [0.02738305 0.0497945  0.09495926 0.1302765  0.15348725 0.16096401\n",
      " 0.15348725 0.1302765  0.09495926 0.0497945  0.02738305]\n",
      "t = 0.01:  [0.01623278 0.02946108 0.0563678  0.07713004 0.09120413 0.09533792\n",
      " 0.09120413 0.07713004 0.0563678  0.02946108 0.01623278]\n",
      "t = 0.02:  [0.00592432 0.01109984 0.02054549 0.02905975 0.03324329 0.03591983\n",
      " 0.03324329 0.02905975 0.02054549 0.01109984 0.00592432]\n",
      "t = 1:  [-0.00624631  0.01236899 -0.02351386  0.03238244 -0.03804623  0.04002689\n",
      " -0.03804623  0.03238244 -0.02351386  0.01236899 -0.00624631]\n"
     ]
    },
    {
     "data": {
      "image/png": "[encoded data removed]",
      "text/plain": [
       "<Figure size 432x288 with 1 Axes>"
      ]
     },
     "metadata": {
      "needs_background": "light"
     },
     "output_type": "display_data"
    }
   ],
   "source": [
    "# Setup basic domain\n",
    "L = 1\n",
    "D = 1\n",
    "\n",
    "N = 10    # Number of lattice points\n",
    "h = 0.1  # Spatial step size\n",
    "\n",
    "# Create the x-grid\n",
    "x = np.linspace(0, L, N+1)\n",
    "\n",
    "# Setup final solution time + time-step\n",
    "tf = 1\n",
    "k  = 0.0052\n",
    "n_steps = round(tf / k)\n",
    "\n",
    "# Print the stability condition; Recall that this ratio must be less than 1/2\n",
    "print('h = ', h)\n",
    "print('D k / h2 = ', (D * k / h**2))\n",
    "\n",
    "# Setup to create a movie\n",
    "n_frames = 10\n",
    "frame_step = round(n_steps / n_frames)\n",
    "\n",
    "# Assemble the matrix\n",
    "d1 = (1.0 - (2. * D * k / h**2)) * np.ones(N+1)\n",
    "d2 = (D * k / h**2) * np.ones(N)\n",
    "\n",
    "# Assemble the matrices -> See documentation: https://docs.scipy.org/doc/scipy/reference/generated/scipy.sparse.diags.html\n",
    "A = sps.diags((d2, d1, d2), offsets=(-1, 0, 1))\n",
    "\n",
    "# Set initial condition\n",
    "w = np.multiply(x,1-x)\n",
    "u_t0 = w\n",
    "print(\"t = 0: \", u_t0)\n",
    "plt.scatter(x,w)\n",
    "\n",
    "for j in range(n_steps):\n",
    "    w[:] = A.dot(w)\n",
    "    if (j == int(0.05*n_steps-1)):\n",
    "        u_t005 = w\n",
    "        print(\"t = 0.005: \", u_t005)\n",
    "        plt.scatter(x, w)\n",
    "    if (j == int(0.1*n_steps-1)):\n",
    "        u_t01 = w\n",
    "        print(\"t = 0.01: \", u_t01)\n",
    "        plt.scatter(x, w)\n",
    "    if (j == int(0.2*n_steps-1)):\n",
    "        u_t02 = w\n",
    "        print(\"t = 0.02: \", u_t02)\n",
    "        plt.scatter(x, w)\n",
    "    if (j == int(1*n_steps-1)):\n",
    "        u_t1 = w\n",
    "        print(\"t = 1: \", u_t1)\n",
    "        plt.scatter(x, w)\n",
    "    # enforce BC\n",
    "    w[0] = 0\n",
    "    w[N] = 0"
   ]
  },
  {
   "cell_type": "code",
   "execution_count": null,
   "id": "5fa6828d",
   "metadata": {},
   "outputs": [],
   "source": []
  }
 ],
 "metadata": {
  "kernelspec": {
   "display_name": "Python 3 (ipykernel)",
   "language": "python",
   "name": "python3"
  },
  "language_info": {
   "codemirror_mode": {
    "name": "ipython",
    "version": 3
   },
   "file_extension": ".py",
   "mimetype": "text/x-python",
   "name": "python",
   "nbconvert_exporter": "python",
   "pygments_lexer": "ipython3",
   "version": "3.9.6"
  }
 },
 "nbformat": 4,
 "nbformat_minor": 5
}
