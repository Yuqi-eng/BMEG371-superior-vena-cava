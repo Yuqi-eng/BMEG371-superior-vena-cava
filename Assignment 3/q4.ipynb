{
 "cells": [
  {
   "cell_type": "code",
   "execution_count": 160,
   "id": "50635d47",
   "metadata": {},
   "outputs": [
    {
     "name": "stdout",
     "output_type": "stream",
     "text": [
      "The autoreload extension is already loaded. To reload it, use:\n",
      "  %reload_ext autoreload\n"
     ]
    },
    {
     "data": {
      "text/html": [
       "<style>.container { width:100% !important; }</style>"
      ],
      "text/plain": [
       "<IPython.core.display.HTML object>"
      ]
     },
     "metadata": {},
     "output_type": "display_data"
    }
   ],
   "source": [
    "%load_ext autoreload\n",
    "%autoreload 2\n",
    "\n",
    "import sys, os\n",
    "import matplotlib\n",
    "import itertools\n",
    "from matplotlib import animation, rc\n",
    "\n",
    "font = {'family' : 'normal',\n",
    "        'weight' : 'bold',\n",
    "        'size'   : 18}\n",
    "\n",
    "matplotlib.rc('font', **font)\n",
    "\n",
    "from IPython.display import HTML\n",
    "import matplotlib.pyplot as plt\n",
    "\n",
    "import numpy as np\n",
    "import scipy as sp\n",
    "import scipy.sparse as sps\n",
    "import scipy.sparse.linalg as LAS\n",
    "\n",
    "from IPython.core.display import display, HTML\n",
    "display(HTML(\"<style>.container { width:100% !important; }</style>\"))"
   ]
  },
  {
   "cell_type": "code",
   "execution_count": 161,
   "id": "87b35608",
   "metadata": {},
   "outputs": [],
   "source": [
    "def srs(x, y, M):\n",
    "    # x and y should be a meshgrid.\n",
    "    u = np.zeros_like(x)\n",
    "    \n",
    "    u = (1/2)*(x**2 - 1)\n",
    "\n",
    "    return u\n",
    "\n",
    "                     "
   ]
  },
  {
   "cell_type": "code",
   "execution_count": 162,
   "id": "de9ae738",
   "metadata": {},
   "outputs": [
    {
     "name": "stdout",
     "output_type": "stream",
     "text": [
      "Required 100 iterations!\n",
      "Eror = 0.1128.\n"
     ]
    }
   ],
   "source": [
    "N = 20    # The number of interval\n",
    "h = 0.1  # Lenght of each interval\n",
    "\n",
    "# Set tolerance\n",
    "tolerance = h**2 / 4.\n",
    "\n",
    "# This means we have N+1 points -> N-1 interior points\n",
    "w = np.zeros((N+3, N+2))\n",
    "\n",
    "for i in range(0, N+3):\n",
    "    w[i, -1] = 0\n",
    "# x = 1, y at all points, u = 0\n",
    "\n",
    "# Create temporary buffer\n",
    "wn = np.copy(w)\n",
    "\n",
    "# Iterator\n",
    "k = 0\n",
    "\n",
    "#while True:\n",
    "for n in range(100):\n",
    "    # Only iterate over the interior points.\n",
    "    for i, j in itertools.product(range(1, N+2), range(1, N+1)):\n",
    "        wn[i, j] = 0.25 * (wn[i-1, j] + w[i+1, j] + wn[i, j-1] + w[i, j+1] - (h**2)*1)\n",
    "    #No-flux boundary at x = 0\n",
    "    for i in(range(0, N+3)):\n",
    "        w[i, 0] = w[i, 2]\n",
    "    #No-flux boundary at y = 0\n",
    "    for j in(range(0, N+2)):\n",
    "        w[-1, j] = w[-3, j]\n",
    "    #No-flux boundary at y = 1\n",
    "    for j in(range(0, N+2)):\n",
    "        w[0, j] = w[2, j]\n",
    "    \n",
    "    #BCs for corner points\n",
    "    # at i = 0, j = 1\n",
    "    w[1, 0] = w[1, 2]\n",
    "    # at i = 1, j = 0\n",
    "    w[-1, 1] = w[-3, 1]\n",
    "    # at i = 0, j = -2\n",
    "    w[-2, 0] = w[-2, 2]\n",
    "    # at i = 1, j = -1\n",
    "    w[-1, 1] = w[-3, 1]\n",
    "    \n",
    "    # Compute the difference between the old and new approximation\n",
    "    error = np.max(np.abs(wn - w))\n",
    "        \n",
    "    # Replace the former approximation\n",
    "    w[1:N+3, 1:N+2] = wn[1:N+3, 1:N+2]\n",
    "       \n",
    "    # Increment iteration counter\n",
    "    k += 1\n",
    "    \n",
    "    # Print progress.\n",
    "    # print('k = {0:d}, error = {1:.4g}'.format(k, error))\n",
    "    \n",
    "    if error < tolerance:\n",
    "        break\n",
    "\n",
    "print('Required {0:d} iterations!\\nEror = {1:.4g}.'.format(k, error))"
   ]
  },
  {
   "cell_type": "code",
   "execution_count": 138,
   "id": "dafd434f",
   "metadata": {},
   "outputs": [
    {
     "name": "stderr",
     "output_type": "stream",
     "text": [
      "<ipython-input-138-385d6538d0f7>:6: MatplotlibDeprecationWarning: shading='flat' when X and Y have the same dimensions as C is deprecated since 3.3.  Either specify the corners of the quadrilaterals with X and Y, or pass shading='auto', 'nearest' or 'gouraud', or set rcParams['pcolor.shading'].  This will become an error two minor releases later.\n",
      "  plt.pcolor(xx, yy, w)\n"
     ]
    },
    {
     "data": {
      "text/plain": [
       "<matplotlib.colorbar.Colorbar at 0x12ab2250>"
      ]
     },
     "execution_count": 138,
     "metadata": {},
     "output_type": "execute_result"
    },
    {
     "data": {
      "image/png": "[encoded data removed]",
      "text/plain": [
       "<Figure size 432x288 with 2 Axes>"
      ]
     },
     "metadata": {
      "needs_background": "light"
     },
     "output_type": "display_data"
    }
   ],
   "source": [
    "# Plot the solution\n",
    "xx, yy = np.meshgrid(np.linspace(0, 1, N+3), np.linspace(0, 1, N+3))\n",
    "\n",
    "# Have to reflect the w vector to match the data format that pcolor expects.\n",
    "# For more information: https://matplotlib.org/stable/api/_as_gen/matplotlib.pyplot.pcolor.html\n",
    "plt.pcolor(xx, yy, w)\n",
    "plt.xlabel('$x$')\n",
    "plt.ylabel('$y$')\n",
    "plt.colorbar()"
   ]
  },
  {
   "cell_type": "code",
   "execution_count": 163,
   "id": "40bd7f12",
   "metadata": {},
   "outputs": [
    {
     "name": "stderr",
     "output_type": "stream",
     "text": [
      "<ipython-input-163-0f4552e8279e>:12: MatplotlibDeprecationWarning: shading='flat' when X and Y have the same dimensions as C is deprecated since 3.3.  Either specify the corners of the quadrilaterals with X and Y, or pass shading='auto', 'nearest' or 'gouraud', or set rcParams['pcolor.shading'].  This will become an error two minor releases later.\n",
      "  plt.pcolor(xx, yy, u)\n"
     ]
    },
    {
     "data": {
      "text/plain": [
       "<matplotlib.colorbar.Colorbar at 0x130cbec8>"
      ]
     },
     "execution_count": 163,
     "metadata": {},
     "output_type": "execute_result"
    },
    {
     "data": {
      "image/png": "[encoded data removed]",
      "text/plain": [
       "<Figure size 432x288 with 2 Axes>"
      ]
     },
     "metadata": {
      "needs_background": "light"
     },
     "output_type": "display_data"
    }
   ],
   "source": [
    "#Plot for u = (1/2)(x**2 - 1)\n",
    "# Plot the solution\n",
    "xx, yy = np.meshgrid(np.linspace(0, 1, N+3), np.linspace(0, 1, N+3))\n",
    "\n",
    "# Create the analytical solution\n",
    "u = srs(xx, yy, 20)\n",
    "\n",
    "# Have to reflect the w vector to match the data format that pcolor expects.\n",
    "# For more information: https://matplotlib.org/stable/api/_as_gen/matplotlib.pyplot.pcolor.html\n",
    "xx, yy = np.meshgrid(np.linspace(0, 1, N+3), np.linspace(0, 1, N+3))\n",
    "\n",
    "plt.pcolor(xx, yy, u)\n",
    "plt.xlabel('$x$')\n",
    "plt.ylabel('$y$')\n",
    "plt.colorbar()"
   ]
  },
  {
   "cell_type": "code",
   "execution_count": 164,
   "id": "05853c35",
   "metadata": {},
   "outputs": [
    {
     "data": {
      "text/plain": [
       "<matplotlib.colorbar.Colorbar at 0x14463310>"
      ]
     },
     "execution_count": 164,
     "metadata": {},
     "output_type": "execute_result"
    },
    {
     "data": {
      "image/png": "[encoded data removed]",
      "text/plain": [
       "<Figure size 432x288 with 2 Axes>"
      ]
     },
     "metadata": {
      "needs_background": "light"
     },
     "output_type": "display_data"
    }
   ],
   "source": [
    "error = np.abs(u[1:N+2, 1:N+2] - w[1:N+2, 1:N+2])\n",
    "\n",
    "# Plot the solution\n",
    "xx, yy = np.meshgrid(np.linspace(0, 1, N+2), np.linspace(0, 1, N+2))\n",
    "\n",
    "# Have to reflect the w vector to match the data format that pcolor expects.\n",
    "# For more information: https://matplotlib.org/stable/api/_as_gen/matplotlib.pyplot.pcolor.html\n",
    "plt.pcolor(xx, yy, error)\n",
    "plt.xlabel('$x$')\n",
    "plt.ylabel('$y$')\n",
    "plt.colorbar()"
   ]
  },
  {
   "cell_type": "code",
   "execution_count": 170,
   "id": "0160d394",
   "metadata": {},
   "outputs": [
    {
     "name": "stdout",
     "output_type": "stream",
     "text": [
      "Required 100 iterations!\n",
      "Eror = 0.1128.\n"
     ]
    }
   ],
   "source": [
    "N = 20    # The number of interval\n",
    "h = 0.1  # Lenght of each interval\n",
    "\n",
    "# Set tolerance\n",
    "tolerance = h**2 / 4.\n",
    "\n",
    "# This means we have N+1 points -> N-1 interior points\n",
    "w = np.zeros((N+3, N+2))\n",
    "errors = np.zeros((100*(N+1)*(N)))\n",
    "\n",
    "for i in range(0, N+3):\n",
    "    w[i, -1] = 0\n",
    "# x = 1, y at all points, u = 0\n",
    "\n",
    "# Create temporary buffer\n",
    "wn = np.copy(w)\n",
    "\n",
    "# Iterator\n",
    "k = 0\n",
    "m = 0\n",
    "\n",
    "#while True:\n",
    "for n in range(100):\n",
    "    # Only iterate over the interior points.\n",
    "    for i, j in itertools.product(range(1, N+2), range(1, N+1)):\n",
    "        wn[i, j] = 0.25 * (wn[i-1, j] + w[i+1, j] + wn[i, j-1] + w[i, j+1] - (h**2)*1)\n",
    "        errors[m] = np.abs(u[10, 12] - w[10,12])\n",
    "        m += 1\n",
    "    #No-flux boundary at x = 0\n",
    "    for i in(range(0, N+3)):\n",
    "        w[i, 0] = w[i, 2]\n",
    "    #No-flux boundary at y = 0\n",
    "    for j in(range(0, N+2)):\n",
    "        w[-1, j] = w[-3, j]\n",
    "    #No-flux boundary at y = 1\n",
    "    for j in(range(0, N+2)):\n",
    "        w[0, j] = w[2, j]\n",
    "    \n",
    "    #BCs for corner points\n",
    "    # at i = 0, j = 1\n",
    "    w[1, 0] = w[1, 2]\n",
    "    # at i = 1, j = 0\n",
    "    w[-1, 1] = w[-3, 1]\n",
    "    # at i = 0, j = -2\n",
    "    w[-2, 0] = w[-2, 2]\n",
    "    # at i = 1, j = -1\n",
    "    w[-1, 1] = w[-3, 1]\n",
    "    \n",
    "    # Compute the difference between the old and new approximation\n",
    "    error = np.max(np.abs(wn - w))\n",
    "        \n",
    "    # Replace the former approximation\n",
    "    w[1:N+3, 1:N+2] = wn[1:N+3, 1:N+2]\n",
    "       \n",
    "    # Increment iteration counter\n",
    "    k += 1\n",
    "    \n",
    "    # Print progress.\n",
    "    # print('k = {0:d}, error = {1:.4g}'.format(k, error))\n",
    "    \n",
    "\n",
    "print('Required {0:d} iterations!\\nEror = {1:.4g}.'.format(k, error))\n"
   ]
  },
  {
   "cell_type": "code",
   "execution_count": 173,
   "id": "d8bc4df8",
   "metadata": {},
   "outputs": [
    {
     "data": {
      "text/plain": [
       "Text(0, 0.5, '|u(0.5, 0.6) - w(0.5,0.6)|')"
      ]
     },
     "execution_count": 173,
     "metadata": {},
     "output_type": "execute_result"
    },
    {
     "data": {
      "image/png": "[encoded data removed]",
      "text/plain": [
       "<Figure size 432x288 with 1 Axes>"
      ]
     },
     "metadata": {
      "needs_background": "light"
     },
     "output_type": "display_data"
    }
   ],
   "source": [
    "fig = plt.figure()\n",
    "ax = plt.axes()\n",
    "\n",
    "x = np.linspace(0, 42000, 42000)\n",
    "ax.plot(x, errors);\n",
    "plt.xlabel('# of Iterations')\n",
    "plt.ylabel('|u(0.5, 0.6) - w(0.5,0.6)|')"
   ]
  },
  {
   "cell_type": "code",
   "execution_count": 168,
   "id": "e4ea3240",
   "metadata": {},
   "outputs": [
    {
     "name": "stdout",
     "output_type": "stream",
     "text": [
      "Required 1 iterations!\n",
      "Eror = 0.0025.\n"
     ]
    }
   ],
   "source": [
    "N = 20    # The number of interval\n",
    "h = 0.1  # Lenght of each interval\n",
    "\n",
    "# Set tolerance\n",
    "tolerance = h**2 / 4.\n",
    "\n",
    "# This means we have N+1 points -> N-1 interior points\n",
    "w = np.zeros((N+3, N+2))\n",
    "error = np.zeros((N+3, N+3))\n",
    "\n",
    "for i in range(0, N+3):\n",
    "    w[i, -1] = 0\n",
    "# x = 1, y at all points, u = 0\n",
    "\n",
    "# Create temporary buffer\n",
    "wn = np.copy(w)\n",
    "\n",
    "# Iterator\n",
    "k = 0\n",
    "\n",
    "#while True:\n",
    "for n in range(100):\n",
    "    # Only iterate over the interior points.\n",
    "    for i, j in itertools.product(range(1, N+2), range(1, N+1)):\n",
    "        # if 0.3 <= x <= 0.7\n",
    "        if (i >= 6 & i <= 14):\n",
    "            wn[i, j] = 0.25 * (wn[i-1, j] + w[i+1, j] + wn[i, j-1] + w[i, j+1] + (h**2)*0.5)\n",
    "        else:\n",
    "            wn[i, j] = 0.25 * (wn[i-1, j] + w[i+1, j] + wn[i, j-1] + w[i, j+1])\n",
    "\n",
    "    #No-flux boundary at x = 0\n",
    "    for i in(range(0, N+3)):\n",
    "        w[i, 0] = w[i, 2]\n",
    "    #No-flux boundary at y = 0\n",
    "    for j in(range(0, N+2)):\n",
    "        w[-1, j] = w[-3, j]\n",
    "    #No-flux boundary at y = 1\n",
    "    for j in(range(0, N+2)):\n",
    "        w[0, j] = w[2, j]\n",
    "    \n",
    "    #BCs for corner points\n",
    "    # at i = 0, j = 1\n",
    "    w[1, 0] = w[1, 2]\n",
    "    # at i = 1, j = 0\n",
    "    w[-1, 1] = w[-3, 1]\n",
    "    # at i = 0, j = -2\n",
    "    w[-2, 0] = w[-2, 2]\n",
    "    # at i = 1, j = -1\n",
    "    w[-1, 1] = w[-3, 1]\n",
    "    \n",
    "    # Compute the difference between the old and new approximation\n",
    "    error = np.max(np.abs(wn - w))\n",
    "        \n",
    "    # Replace the former approximation\n",
    "    w[1:N+3, 1:N+2] = wn[1:N+3, 1:N+2]\n",
    "       \n",
    "    # Increment iteration counter\n",
    "    k += 1\n",
    "    \n",
    "    # Print progress.\n",
    "    # print('k = {0:d}, error = {1:.4g}'.format(k, error))\n",
    "    \n",
    "    if error < tolerance:\n",
    "        break\n",
    "\n",
    "print('Required {0:d} iterations!\\nEror = {1:.4g}.'.format(k, error))"
   ]
  },
  {
   "cell_type": "code",
   "execution_count": 169,
   "id": "2e12475d",
   "metadata": {},
   "outputs": [
    {
     "name": "stderr",
     "output_type": "stream",
     "text": [
      "<ipython-input-169-385d6538d0f7>:6: MatplotlibDeprecationWarning: shading='flat' when X and Y have the same dimensions as C is deprecated since 3.3.  Either specify the corners of the quadrilaterals with X and Y, or pass shading='auto', 'nearest' or 'gouraud', or set rcParams['pcolor.shading'].  This will become an error two minor releases later.\n",
      "  plt.pcolor(xx, yy, w)\n"
     ]
    },
    {
     "data": {
      "text/plain": [
       "<matplotlib.colorbar.Colorbar at 0x12a3f328>"
      ]
     },
     "execution_count": 169,
     "metadata": {},
     "output_type": "execute_result"
    },
    {
     "data": {
      "image/png": "[encoded data removed]",
      "text/plain": [
       "<Figure size 432x288 with 2 Axes>"
      ]
     },
     "metadata": {
      "needs_background": "light"
     },
     "output_type": "display_data"
    }
   ],
   "source": [
    "# Plot the solution\n",
    "xx, yy = np.meshgrid(np.linspace(0, 1, N+3), np.linspace(0, 1, N+3))\n",
    "\n",
    "# Have to reflect the w vector to match the data format that pcolor expects.\n",
    "# For more information: https://matplotlib.org/stable/api/_as_gen/matplotlib.pyplot.pcolor.html\n",
    "plt.pcolor(xx, yy, w)\n",
    "plt.xlabel('$x$')\n",
    "plt.ylabel('$y$')\n",
    "plt.colorbar()"
   ]
  },
  {
   "cell_type": "code",
   "execution_count": null,
   "id": "8d87ba5c",
   "metadata": {},
   "outputs": [],
   "source": []
  }
 ],
 "metadata": {
  "kernelspec": {
   "display_name": "Python 3",
   "language": "python",
   "name": "python3"
  },
  "language_info": {
   "codemirror_mode": {
    "name": "ipython",
    "version": 3
   },
   "file_extension": ".py",
   "mimetype": "text/x-python",
   "name": "python",
   "nbconvert_exporter": "python",
   "pygments_lexer": "ipython3",
   "version": "3.8.8"
  }
 },
 "nbformat": 4,
 "nbformat_minor": 5
}
