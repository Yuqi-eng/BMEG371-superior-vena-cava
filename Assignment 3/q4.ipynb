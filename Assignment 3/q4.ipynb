{
 "cells": [
  {
   "cell_type": "code",
   "execution_count": 75,
   "id": "50635d47",
   "metadata": {},
   "outputs": [
    {
     "name": "stdout",
     "output_type": "stream",
     "text": [
      "The autoreload extension is already loaded. To reload it, use:\n",
      "  %reload_ext autoreload\n"
     ]
    },
    {
     "data": {
      "text/html": [
       "<style>.container { width:100% !important; }</style>"
      ],
      "text/plain": [
       "<IPython.core.display.HTML object>"
      ]
     },
     "metadata": {},
     "output_type": "display_data"
    }
   ],
   "source": [
    "%load_ext autoreload\n",
    "%autoreload 2\n",
    "\n",
    "import sys, os\n",
    "import matplotlib\n",
    "import itertools\n",
    "from matplotlib import animation, rc\n",
    "\n",
    "font = {'family' : 'normal',\n",
    "        'weight' : 'bold',\n",
    "        'size'   : 18}\n",
    "\n",
    "matplotlib.rc('font', **font)\n",
    "\n",
    "from IPython.display import HTML\n",
    "import matplotlib.pyplot as plt\n",
    "\n",
    "import numpy as np\n",
    "import scipy as sp\n",
    "import scipy.sparse as sps\n",
    "import scipy.sparse.linalg as LAS\n",
    "\n",
    "from IPython.core.display import display, HTML\n",
    "display(HTML(\"<style>.container { width:100% !important; }</style>\"))"
   ]
  },
  {
   "cell_type": "code",
   "execution_count": 76,
   "id": "87b35608",
   "metadata": {},
   "outputs": [],
   "source": [
    "def srs(x, y, M):\n",
    "    # x and y should be a meshgrid.\n",
    "    u = np.zeros_like(x)\n",
    "    \n",
    "    u = (1/2)*(x**2 - 1)\n",
    "\n",
    "    return u\n",
    "\n",
    "                     "
   ]
  },
  {
   "cell_type": "code",
   "execution_count": 77,
   "id": "d51c0cbb",
   "metadata": {},
   "outputs": [
    {
     "name": "stdout",
     "output_type": "stream",
     "text": [
      "h =  0.1\n"
     ]
    }
   ],
   "source": [
    "N = 20    # The number of interval\n",
    "h = 0.1  # Lenght of each interval\n",
    "print(\"h = \", h)\n",
    "\n",
    "# Set tolerance\n",
    "tolerance = h**2 / 4.\n",
    "\n",
    "# This means we have N+1 points -> N-1 interior points\n",
    "w = np.zeros((N+2, N+2))\n",
    "\n",
    "# Set the boundary conditions\n",
    "w[:, 1]  = 0.0 # x = 0\n",
    "w[:, -1] = 0.0 # x = 1, 0 <= y <= 1/2\n",
    "w[-2, :] = 0.0 # y = 0\n",
    "w[1, :]  = 0.0 # y = 1\n",
    "\n",
    "\n",
    "for i in range(10,21):\n",
    "    w[i, -1] = 0\n",
    "# x = 1, 1/2 < y <= 1\n",
    "# print(w)\n",
    "\n",
    "# Create temporary buffer\n",
    "wn = np.copy(w)\n",
    "\n",
    "# Iterator\n",
    "k = 0\n",
    "\n",
    "for n in range(100):\n",
    "    # Only iterate over the interior points.\n",
    "    for i, j in itertools.product(range(1, N), range(1, N)):\n",
    "        wn[i, j] = 0.25 * (wn[i-1, j] + w[i+1, j] + wn[i, j-1] + w[i, j+1]) + 1\n",
    "        \n",
    "        #Enforce BCs with Ghost\n",
    "        w[:, 0] = w[:, 2] # No-Flux at x = 0\n",
    "        w[-1, :] = w[-3, :] # No-Flux at y = 0\n",
    "        w[0, :] = w[2, :] #No-Flux at y = 1\n",
    "    \n",
    "    # Compute the difference between the old and new approximation\n",
    "    error = np.max(np.abs(wn - w))\n",
    "        \n",
    "    # Replace the former approximation\n",
    "    w[1:N, 1:N] = wn[1:N, 1:N]\n",
    "       \n",
    "    # Increment iteration counter\n",
    "    k += 1\n",
    "    \n",
    "    # Print progress.\n",
    "    #print('k = {0:d}, error = {1:.4g}'.format(k, error))\n",
    "\n"
   ]
  },
  {
   "cell_type": "code",
   "execution_count": 78,
   "id": "dafd434f",
   "metadata": {},
   "outputs": [
    {
     "data": {
      "text/plain": [
       "<matplotlib.colorbar.Colorbar at 0xe898190>"
      ]
     },
     "execution_count": 78,
     "metadata": {},
     "output_type": "execute_result"
    },
    {
     "name": "stderr",
     "output_type": "stream",
     "text": [
      "findfont: Font family ['normal'] not found. Falling back to DejaVu Sans.\n",
      "findfont: Font family ['normal'] not found. Falling back to DejaVu Sans.\n"
     ]
    },
    {
     "data": {
      "image/png": "[encoded data removed]",
      "text/plain": [
       "<Figure size 432x288 with 2 Axes>"
      ]
     },
     "metadata": {
      "needs_background": "light"
     },
     "output_type": "display_data"
    }
   ],
   "source": [
    "# Plot the solution\n",
    "xx, yy = np.meshgrid(np.linspace(0, 1, N+3), np.linspace(0, 1, N+3))\n",
    "\n",
    "# Have to reflect the w vector to match the data format that pcolor expects.\n",
    "# For more information: https://matplotlib.org/stable/api/_as_gen/matplotlib.pyplot.pcolor.html\n",
    "plt.pcolor(xx, yy, w)\n",
    "plt.xlabel('$x$')\n",
    "plt.ylabel('$y$')\n",
    "plt.colorbar()"
   ]
  },
  {
   "cell_type": "code",
   "execution_count": 79,
   "id": "40bd7f12",
   "metadata": {},
   "outputs": [
    {
     "data": {
      "text/plain": [
       "<matplotlib.colorbar.Colorbar at 0xe8d90d0>"
      ]
     },
     "execution_count": 79,
     "metadata": {},
     "output_type": "execute_result"
    },
    {
     "data": {
      "image/png": "[encoded data removed]",
      "text/plain": [
       "<Figure size 432x288 with 2 Axes>"
      ]
     },
     "metadata": {
      "needs_background": "light"
     },
     "output_type": "display_data"
    }
   ],
   "source": [
    "#Plot for u = (1/2)(x**2 - 1)\n",
    "# Plot the solution\n",
    "xx, yy = np.meshgrid(np.linspace(0, 1, N+2), np.linspace(0, 1, N+2))\n",
    "\n",
    "# Create the analytical solution\n",
    "u = srs(xx, yy, 20)\n",
    "\n",
    "# Have to reflect the w vector to match the data format that pcolor expects.\n",
    "# For more information: https://matplotlib.org/stable/api/_as_gen/matplotlib.pyplot.pcolor.html\n",
    "xx, yy = np.meshgrid(np.linspace(0, 1, N+3), np.linspace(0, 1, N+3))\n",
    "\n",
    "plt.pcolor(xx, yy, u)\n",
    "plt.xlabel('$x$')\n",
    "plt.ylabel('$y$')\n",
    "plt.colorbar()"
   ]
  },
  {
   "cell_type": "code",
   "execution_count": 80,
   "id": "05853c35",
   "metadata": {},
   "outputs": [
    {
     "data": {
      "text/plain": [
       "<matplotlib.colorbar.Colorbar at 0xe9580b8>"
      ]
     },
     "execution_count": 80,
     "metadata": {},
     "output_type": "execute_result"
    },
    {
     "data": {
      "image/png": "[encoded data removed]",
      "text/plain": [
       "<Figure size 432x288 with 2 Axes>"
      ]
     },
     "metadata": {
      "needs_background": "light"
     },
     "output_type": "display_data"
    }
   ],
   "source": [
    "error = np.abs(u[1:N, 1:N] - w[1:N, 1:N])\n",
    "\n",
    "# Plot the solution\n",
    "xx, yy = np.meshgrid(np.linspace(0, 1, N), np.linspace(0, 1, N))\n",
    "\n",
    "# Have to reflect the w vector to match the data format that pcolor expects.\n",
    "# For more information: https://matplotlib.org/stable/api/_as_gen/matplotlib.pyplot.pcolor.html\n",
    "plt.pcolor(xx, yy, error)\n",
    "plt.xlabel('$x$')\n",
    "plt.ylabel('$y$')\n",
    "plt.colorbar()"
   ]
  },
  {
   "cell_type": "code",
   "execution_count": 81,
   "id": "e4ea3240",
   "metadata": {},
   "outputs": [
    {
     "name": "stdout",
     "output_type": "stream",
     "text": [
      "h =  0.1\n"
     ]
    }
   ],
   "source": [
    "N = 20    # The number of interval\n",
    "h = 0.1  # Lenght of each interval\n",
    "print(\"h = \", h)\n",
    "\n",
    "# Set tolerance\n",
    "tolerance = h**2 / 4.\n",
    "\n",
    "# This means we have N+1 points -> N-1 interior points\n",
    "w = np.zeros((N+2, N+2))\n",
    "\n",
    "# Set the boundary conditions\n",
    "w[:, 1]  = 0.0 # x = 0\n",
    "w[:, -1] = 0.0 # x = 1, 0 <= y <= 1/2\n",
    "w[-2, :] = 0.0 # y = 0\n",
    "w[1, :]  = 0.0 # y = 1\n",
    "\n",
    "\n",
    "for i in range(10,21):\n",
    "    w[i, -1] = 0\n",
    "# x = 1, 1/2 < y <= 1\n",
    "# print(w)\n",
    "\n",
    "# Create temporary buffer\n",
    "wn = np.copy(w)\n",
    "\n",
    "# Iterator\n",
    "k = 0\n",
    "\n",
    "for n in range(100):\n",
    "    # Only iterate over the interior points.\n",
    "    for i, j in itertools.product(range(1, N), range(1, N)):\n",
    "        wn[i, j] = 0.25 * (wn[i-1, j] + w[i+1, j] + wn[i, j-1] + w[i, j+1]) -0.5\n",
    "        \n",
    "        #Enforce BCs with Ghost\n",
    "        w[:, 0] = w[:, 2] # No-Flux at x = 0\n",
    "        w[-1, :] = w[-3, :] # No-Flux at y = 0\n",
    "        w[0, :] = w[2, :] #No-Flux at y = 1\n",
    "    \n",
    "    # Compute the difference between the old and new approximation\n",
    "    error = np.max(np.abs(wn - w))\n",
    "        \n",
    "    # Replace the former approximation\n",
    "    w[1:N, 1:N] = wn[1:N, 1:N]\n",
    "       \n",
    "    # Increment iteration counter\n",
    "    k += 1\n",
    "    \n",
    "    # Print progress.\n",
    "    #print('k = {0:d}, error = {1:.4g}'.format(k, error))"
   ]
  },
  {
   "cell_type": "code",
   "execution_count": 83,
   "id": "2e12475d",
   "metadata": {},
   "outputs": [
    {
     "data": {
      "text/plain": [
       "<matplotlib.colorbar.Colorbar at 0xea752c8>"
      ]
     },
     "execution_count": 83,
     "metadata": {},
     "output_type": "execute_result"
    },
    {
     "data": {
      "image/png": "[encoded data removed]",
      "text/plain": [
       "<Figure size 432x288 with 2 Axes>"
      ]
     },
     "metadata": {
      "needs_background": "light"
     },
     "output_type": "display_data"
    }
   ],
   "source": [
    "# Plot the solution\n",
    "xx, yy = np.meshgrid(np.linspace(0.3, 0.7, N+3), np.linspace(0.3, 0.7, N+3))\n",
    "\n",
    "# Have to reflect the w vector to match the data format that pcolor expects.\n",
    "# For more information: https://matplotlib.org/stable/api/_as_gen/matplotlib.pyplot.pcolor.html\n",
    "plt.pcolor(xx, yy, w)\n",
    "plt.xlabel('$x$')\n",
    "plt.ylabel('$y$')\n",
    "plt.colorbar()"
   ]
  },
  {
   "cell_type": "code",
   "execution_count": null,
   "id": "8d87ba5c",
   "metadata": {},
   "outputs": [],
   "source": []
  }
 ],
 "metadata": {
  "kernelspec": {
   "display_name": "Python 3",
   "language": "python",
   "name": "python3"
  },
  "language_info": {
   "codemirror_mode": {
    "name": "ipython",
    "version": 3
   },
   "file_extension": ".py",
   "mimetype": "text/x-python",
   "name": "python",
   "nbconvert_exporter": "python",
   "pygments_lexer": "ipython3",
   "version": "3.8.8"
  }
 },
 "nbformat": 4,
 "nbformat_minor": 5
}
