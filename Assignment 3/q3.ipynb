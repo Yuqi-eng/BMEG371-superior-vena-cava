{
 "cells": [
  {
   "cell_type": "code",
   "execution_count": 2,
   "id": "24709743-f1ec-4432-bfd1-01e2df5f8ff6",
   "metadata": {},
   "outputs": [
    {
     "data": {
      "text/html": [
       "<style>.container { width:100% !important; }</style>"
      ],
      "text/plain": [
       "<IPython.core.display.HTML object>"
      ]
     },
     "metadata": {},
     "output_type": "display_data"
    }
   ],
   "source": [
    "%load_ext autoreload\n",
    "%autoreload 2\n",
    "\n",
    "import sys, os\n",
    "import matplotlib\n",
    "import itertools\n",
    "from matplotlib import animation, rc\n",
    "\n",
    "font = {'family' : 'normal',\n",
    "        'weight' : 'bold',\n",
    "        'size'   : 18}\n",
    "\n",
    "matplotlib.rc('font', **font)\n",
    "\n",
    "from IPython.display import HTML\n",
    "import matplotlib.pyplot as plt\n",
    "\n",
    "import numpy as np\n",
    "import scipy as sp\n",
    "import scipy.sparse as sps\n",
    "import scipy.sparse.linalg as LAS\n",
    "\n",
    "from IPython.core.display import display, HTML\n",
    "display(HTML(\"<style>.container { width:100% !important; }</style>\"))"
   ]
  },
  {
   "cell_type": "markdown",
   "id": "70ad5e94-d44a-45e3-a7d1-e8c7a99c10df",
   "metadata": {},
   "source": [
    "# Q3 a)"
   ]
  },
  {
   "cell_type": "code",
   "execution_count": 3,
   "id": "6518c646-78e5-4bfb-b3a2-cbebe14e1261",
   "metadata": {
    "tags": []
   },
   "outputs": [
    {
     "name": "stdout",
     "output_type": "stream",
     "text": [
      "h =  0.2\n",
      "[[0. 0. 0. 0. 0. 0.]\n",
      " [0. 0. 0. 0. 0. 0.]\n",
      " [0. 0. 0. 0. 0. 0.]\n",
      " [0. 0. 0. 0. 0. 1.]\n",
      " [0. 0. 0. 0. 0. 1.]\n",
      " [0. 0. 0. 0. 0. 1.]]\n",
      "k = 1, error = 0.3125\n",
      "k = 2, error = 0.1094\n",
      "k = 3, error = 0.0625\n",
      "k = 4, error = 0.03271\n",
      "k = 5, error = 0.02063\n",
      "k = 6, error = 0.01372\n",
      "k = 7, error = 0.00982\n"
     ]
    }
   ],
   "source": [
    "N = 5    # The number of interval\n",
    "h = 1./N  # Lenght of each interval\n",
    "print(\"h = \", h)\n",
    "\n",
    "# Set tolerance\n",
    "tolerance = h**2 / 4.\n",
    "\n",
    "# This means we have N+1 points -> N-1 interior points\n",
    "w = np.zeros((N+1, N+1))\n",
    "\n",
    "# Set the boundary conditions\n",
    "w[:, 0]  = 0.0 # x = 0\n",
    "w[:, -1] = 0.0 # x = 1, 0 <= y <= 1/2\n",
    "w[-1, :] = 0.0 # y = 0\n",
    "w[0, :]  = 0.0 # y = 1\n",
    "w[3, -1] = 1.0 \n",
    "w[4, -1] = 1.0 \n",
    "w[5, -1] = 1.0 \n",
    "# x = 1, 1/2 < y <= 1\n",
    "print(w)\n",
    "\n",
    "# Create temporary buffer\n",
    "wn = np.copy(w)\n",
    "\n",
    "# Iterator\n",
    "k = 0\n",
    "\n",
    "for n in range(7):\n",
    "    # Only iterate over the interior points.\n",
    "    for i, j in itertools.product(range(1, N), range(1, N)):\n",
    "        wn[i, j] = 0.25 * (wn[i-1, j] + w[i+1, j] + wn[i, j-1] + w[i, j+1])\n",
    "    \n",
    "    # Compute the difference between the old and new approximation\n",
    "    error = np.max(np.abs(wn - w))\n",
    "        \n",
    "    # Replace the former approximation\n",
    "    w[1:N, 1:N] = wn[1:N, 1:N]\n",
    "       \n",
    "    # Increment iteration counter\n",
    "    k += 1\n",
    "    \n",
    "    # Print progress.\n",
    "    print('k = {0:d}, error = {1:.4g}'.format(k, error))\n",
    "\n",
    "#print('Required {0:d} iterations!\\nEror = {1:.4g}.'.format(k, error))"
   ]
  },
  {
   "cell_type": "code",
   "execution_count": 4,
   "id": "fdd81175-45ab-4f56-b14e-8fd4f9caa8ef",
   "metadata": {
    "scrolled": true
   },
   "outputs": [
    {
     "data": {
      "text/plain": [
       "<matplotlib.colorbar.Colorbar at 0x7f809940ddc0>"
      ]
     },
     "execution_count": 4,
     "metadata": {},
     "output_type": "execute_result"
    },
    {
     "name": "stderr",
     "output_type": "stream",
     "text": [
      "findfont: Font family ['normal'] not found. Falling back to DejaVu Sans.\n",
      "findfont: Font family ['normal'] not found. Falling back to DejaVu Sans.\n"
     ]
    },
    {
     "data": {
      "image/png": "[encoded data removed]",
      "text/plain": [
       "<Figure size 432x288 with 2 Axes>"
      ]
     },
     "metadata": {
      "needs_background": "light"
     },
     "output_type": "display_data"
    }
   ],
   "source": [
    "# Plot the solution\n",
    "xx, yy = np.meshgrid(np.linspace(0, 1, N+2), np.linspace(0, 1, N+2))\n",
    "\n",
    "# Have to reflect the w vector to match the data format that pcolor expects.\n",
    "# For more information: https://matplotlib.org/stable/api/_as_gen/matplotlib.pyplot.pcolor.html\n",
    "plt.pcolor(xx, yy, w)\n",
    "plt.xlabel('$x$')\n",
    "plt.ylabel('$y$')\n",
    "plt.colorbar()"
   ]
  },
  {
   "cell_type": "markdown",
   "id": "7a7e4cc8-7025-4262-8304-53b26502bbae",
   "metadata": {},
   "source": [
    "# Q3 b)"
   ]
  },
  {
   "cell_type": "code",
   "execution_count": 77,
   "id": "cb7ec88a-7129-4751-b462-c2b0ff5cd8cf",
   "metadata": {},
   "outputs": [],
   "source": [
    "def series(x, y, M):\n",
    "    # x and y should be a meshgrid.\n",
    "    u = np.zeros_like(x)\n",
    "    \n",
    "    for k in range(1, M, 1):\n",
    "        u += (-2. * ((-1)**k - np.cos(k * np.pi / 2.))/ (np.sinh(k * np.pi) * (k * np.pi))) * np.sinh(k * np.pi * x) * np.sin(k * np.pi *y)\n",
    "\n",
    "    return u"
   ]
  },
  {
   "cell_type": "code",
   "execution_count": 78,
   "id": "2a122945-0baf-4241-879e-5d747d6eceaf",
   "metadata": {},
   "outputs": [
    {
     "data": {
      "text/plain": [
       "<matplotlib.colorbar.Colorbar at 0x7f8097927490>"
      ]
     },
     "execution_count": 78,
     "metadata": {},
     "output_type": "execute_result"
    },
    {
     "data": {
      "image/png": "[encoded data removed]",
      "text/plain": [
       "<Figure size 432x288 with 2 Axes>"
      ]
     },
     "metadata": {
      "needs_background": "light"
     },
     "output_type": "display_data"
    }
   ],
   "source": [
    "# Plot the solution\n",
    "xx, yy = np.meshgrid(np.linspace(0, 1, N+1), np.linspace(0, 1, N+1))\n",
    "\n",
    "# Create the analytical solution\n",
    "u = series(xx, yy, 20)\n",
    "\n",
    "# Have to reflect the w vector to match the data format that pcolor expects.\n",
    "# For more information: https://matplotlib.org/stable/api/_as_gen/matplotlib.pyplot.pcolor.html\n",
    "xx, yy = np.meshgrid(np.linspace(0, 1, N+2), np.linspace(0, 1, N+2))\n",
    "\n",
    "plt.pcolor(xx, yy, u)\n",
    "plt.xlabel('$x$')\n",
    "plt.ylabel('$y$')\n",
    "plt.colorbar()"
   ]
  },
  {
   "cell_type": "markdown",
   "id": "60026804-35c7-4c92-93c6-9981847851ba",
   "metadata": {},
   "source": [
    "# Plot of error of Jacobi scheme"
   ]
  },
  {
   "cell_type": "code",
   "execution_count": 120,
   "id": "450422e7-338a-416b-9367-cccb911f1eb8",
   "metadata": {},
   "outputs": [
    {
     "data": {
      "text/plain": [
       "<matplotlib.colorbar.Colorbar at 0x7f1ec5744910>"
      ]
     },
     "execution_count": 120,
     "metadata": {},
     "output_type": "execute_result"
    },
    {
     "data": {
      "image/png": "[encoded data removed]",
      "text/plain": [
       "<Figure size 432x288 with 2 Axes>"
      ]
     },
     "metadata": {
      "needs_background": "light"
     },
     "output_type": "display_data"
    }
   ],
   "source": [
    "error = np.abs(u[1:N, 1:N] - w[1:N, 1:N])\n",
    "\n",
    "# Plot the solution\n",
    "xx, yy = np.meshgrid(np.linspace(0, 1, N), np.linspace(0, 1, N))\n",
    "\n",
    "# Have to reflect the w vector to match the data format that pcolor expects.\n",
    "# For more information: https://matplotlib.org/stable/api/_as_gen/matplotlib.pyplot.pcolor.html\n",
    "plt.pcolor(xx, yy, error)\n",
    "plt.xlabel('$x$')\n",
    "plt.ylabel('$y$')\n",
    "plt.colorbar()"
   ]
  },
  {
   "cell_type": "code",
   "execution_count": 137,
   "id": "af07419d-1e4c-44ec-8406-b256906b5a6f",
   "metadata": {},
   "outputs": [
    {
     "data": {
      "text/plain": [
       "Text(0, 0.5, 'Error')"
      ]
     },
     "execution_count": 137,
     "metadata": {},
     "output_type": "execute_result"
    },
    {
     "data": {
      "image/png": "[encoded data removed]",
      "text/plain": [
       "<Figure size 432x288 with 1 Axes>"
      ]
     },
     "metadata": {
      "needs_background": "light"
     },
     "output_type": "display_data"
    }
   ],
   "source": [
    "# Obtained from running the above code!\n",
    "# The obtained error converges as expected (see below).\n",
    "error = {0.04: 0.0003986, 0.02: 9.984e-5, 0.01: 2.5e-5, 0.005: 6.249e-6}\n",
    "\n",
    "es = np.linspace(0.005, 0.05, 100)\n",
    "ys = es**2\n",
    "\n",
    "# Plot the error + a line with slope 2.\n",
    "plt.loglog(error.keys(), error.values(), color='k', label='Error')\n",
    "plt.loglog(es, ys, label='Reference', ls='--')\n",
    "plt.legend(loc='best')\n",
    "plt.xlabel('Step size $h$')\n",
    "plt.ylabel('Error')"
   ]
  },
  {
   "cell_type": "code",
   "execution_count": null,
   "id": "d33ecbc2-af0c-4a3b-9235-a70c713a9493",
   "metadata": {},
   "outputs": [],
   "source": []
  }
 ],
 "metadata": {
  "kernelspec": {
   "display_name": "Python 3 (ipykernel)",
   "language": "python",
   "name": "python3"
  },
  "language_info": {
   "codemirror_mode": {
    "name": "ipython",
    "version": 3
   },
   "file_extension": ".py",
   "mimetype": "text/x-python",
   "name": "python",
   "nbconvert_exporter": "python",
   "pygments_lexer": "ipython3",
   "version": "3.9.6"
  }
 },
 "nbformat": 4,
 "nbformat_minor": 5
}
