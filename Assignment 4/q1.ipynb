{
 "cells": [
  {
   "cell_type": "code",
   "execution_count": 2,
   "id": "5ca30496-2502-434f-94d3-b211709476bd",
   "metadata": {},
   "outputs": [],
   "source": [
    "import numpy as np\n",
    "import scipy as sp\n",
    "from scipy import special, integrate\n",
    "import itertools\n",
    "\n",
    "import matplotlib\n",
    "font = {'family' : 'normal',\n",
    "        'weight' : 'bold',\n",
    "        'size'   : 22}\n",
    "\n",
    "matplotlib.rc('font', **font)\n",
    "\n",
    "from IPython.display import HTML\n",
    "import matplotlib.pyplot as plt\n",
    "\n",
    "import matplotlib.pyplot as plt\n",
    "from matplotlib import animation, rc"
   ]
  },
  {
   "cell_type": "markdown",
   "id": "d512ab41",
   "metadata": {},
   "source": [
    "## Q1 b)"
   ]
  },
  {
   "cell_type": "code",
   "execution_count": 61,
   "id": "951280bd",
   "metadata": {},
   "outputs": [
    {
     "data": {
      "text/plain": [
       "0.125"
      ]
     },
     "execution_count": 61,
     "metadata": {},
     "output_type": "execute_result"
    }
   ],
   "source": [
    "h = 1\n",
    "width = 1\n",
    "group = 1\n",
    "v_inf = 1/8*group*h**2*(1-4*0**2/h**2)\n",
    "v_inf"
   ]
  },
  {
   "cell_type": "code",
   "execution_count": 62,
   "id": "0aafa201",
   "metadata": {},
   "outputs": [],
   "source": [
    "def l(n):\n",
    "    l = (2*n+1)*np.pi/h\n",
    "    return l"
   ]
  },
  {
   "cell_type": "code",
   "execution_count": 63,
   "id": "e95e63e5-28c5-43c6-a605-7853e2575e66",
   "metadata": {},
   "outputs": [],
   "source": [
    "def analytic(y,z,r):\n",
    "    v = 1/8*group*h**2*(1-4*y**2/h**2)\n",
    "    coe = 4*group*h**2\n",
    "    for n in range(r):\n",
    "        v = v - coe*((-1)**n)*np.cos(l(n)*y)*(np.cosh(l(n)*z))*(1/((2*n+1)**3*(np.pi)**3))*(1/np.cosh(l(n)*(width/2)))\n",
    "    return v"
   ]
  },
  {
   "cell_type": "code",
   "execution_count": 64,
   "id": "81207fd7",
   "metadata": {
    "scrolled": true
   },
   "outputs": [
    {
     "name": "stdout",
     "output_type": "stream",
     "text": [
      "0.0736713532815138\n"
     ]
    },
    {
     "data": {
      "text/plain": [
       "[<matplotlib.lines.Line2D at 0x7fa0d873bdf0>]"
      ]
     },
     "execution_count": 64,
     "metadata": {},
     "output_type": "execute_result"
    },
    {
     "data": {
      "image/png": "[encoded data removed]",
      "text/plain": [
       "<Figure size 432x288 with 1 Axes>"
      ]
     },
     "metadata": {
      "needs_background": "light"
     },
     "output_type": "display_data"
    }
   ],
   "source": [
    "z = np.linspace(-width/2,width/2,100)\n",
    "mid = analytic(0,0,20)\n",
    "print(mid) # need to be above 0.1125 to stay with 10% deviation\n",
    "\n",
    "plt.plot(z, analytic(0,z,20))"
   ]
  },
  {
   "cell_type": "code",
   "execution_count": 75,
   "id": "869af471",
   "metadata": {},
   "outputs": [
    {
     "data": {
      "text/plain": [
       "<matplotlib.colorbar.Colorbar at 0x7fa0d8068880>"
      ]
     },
     "execution_count": 75,
     "metadata": {},
     "output_type": "execute_result"
    },
    {
     "data": {
      "image/png": "[encoded data removed]",
      "text/plain": [
       "<Figure size 432x288 with 2 Axes>"
      ]
     },
     "metadata": {
      "needs_background": "light"
     },
     "output_type": "display_data"
    }
   ],
   "source": [
    "kk = 0.05  # Lenght of each interval\n",
    "Nz = int(width/kk)\n",
    "Ny = int(h/kk)\n",
    "\n",
    "# Plot the solution\n",
    "zz, yy = np.meshgrid(np.linspace(-width/2, width/2, Nz), np.linspace(-h/2, h/2, Ny))\n",
    "\n",
    "# Create the analytical solution\n",
    "u = analytic(yy, zz, 20)\n",
    "\n",
    "# Have to reflect the w vector to match the data format that pcolor expects.\n",
    "# For more information: https://matplotlib.org/stable/api/_as_gen/matplotlib.pyplot.pcolor.html\n",
    "zz, yy = np.meshgrid(np.linspace(-width/2, width/2, Nz+1), np.linspace(-h/2, h/2, Ny+1))\n",
    "\n",
    "plt.pcolor(zz, yy, u)\n",
    "plt.xlabel('$z$')\n",
    "plt.ylabel('$y$')\n",
    "plt.colorbar()"
   ]
  },
  {
   "cell_type": "markdown",
   "id": "5d479f28",
   "metadata": {},
   "source": [
    "## Q1 c)"
   ]
  },
  {
   "cell_type": "code",
   "execution_count": 79,
   "id": "48a6f28f",
   "metadata": {},
   "outputs": [
    {
     "name": "stdout",
     "output_type": "stream",
     "text": [
      "Required 49 iterations!\n",
      "Error = 0.0006122.\n",
      "0.048993642274186594 0.0736713532815138\n",
      "0.021995895887754177 0.029042038844569816\n"
     ]
    }
   ],
   "source": [
    "kk = 0.05  # Lenght of each interval\n",
    "width = 1\n",
    "Nz = int(width/kk)\n",
    "Ny = int(h/kk)\n",
    "\n",
    "# Set tolerance\n",
    "tolerance = kk**2 / 4.\n",
    "\n",
    "# This means we have N+1 points -> N-1 interior points\n",
    "w = np.zeros((Nz+1, Ny+1))\n",
    "\n",
    "# Create temporary buffer\n",
    "wn = np.copy(w)\n",
    "# Iterator\n",
    "k = 0\n",
    "\n",
    "#while True:\n",
    "for n in range(100):\n",
    "    # Only iterate over the interior points.\n",
    "    for i, j in itertools.product(range(1, Nz), range(1, Ny)):\n",
    "        wn[i, j] = 0.25 * (wn[i-1, j] + w[i+1, j] + wn[i, j-1] + w[i, j+1] - (kk**2)*(-1))\n",
    "    \n",
    "    w[:, 0]  = 0.0 # x = 0\n",
    "    w[:, -1] = 0.0 # x = 1\n",
    "    w[-1, :] = 0.0 # y = 0\n",
    "    w[0, :]  = 0.0 # y = 1\n",
    "    \n",
    "    # Compute the difference between the old and new approximation\n",
    "    error = np.max(np.abs(wn - w))\n",
    "        \n",
    "    # Replace the former approximation\n",
    "    w[1:Nz, 1:Ny] = wn[1:Nz, 1:Ny]\n",
    "\n",
    "    # Increment iteration counter\n",
    "    k += 1\n",
    "    \n",
    "    # Print progress.\n",
    "    # print('k = {0:d}, error = {1:.4g}'.format(k, error))\n",
    "    \n",
    "    if error < tolerance:\n",
    "        break\n",
    "\n",
    "print('Required {0:d} iterations!\\nError = {1:.4g}.'.format(k, error))\n",
    "print(w[int(Nz/2),int(Ny/2)], mid)\n",
    "print(w[int(Nz*0.9),int(Ny/2)], analytic(0.4*width,0,20))"
   ]
  },
  {
   "cell_type": "code",
   "execution_count": 72,
   "id": "4fd6979c",
   "metadata": {
    "scrolled": true
   },
   "outputs": [
    {
     "name": "stdout",
     "output_type": "stream",
     "text": [
      "(21, 21)\n"
     ]
    },
    {
     "data": {
      "text/plain": [
       "<matplotlib.colorbar.Colorbar at 0x7fa0d8172580>"
      ]
     },
     "execution_count": 72,
     "metadata": {},
     "output_type": "execute_result"
    },
    {
     "data": {
      "image/png": "[encoded data removed]",
      "text/plain": [
       "<Figure size 432x288 with 2 Axes>"
      ]
     },
     "metadata": {
      "needs_background": "light"
     },
     "output_type": "display_data"
    }
   ],
   "source": [
    "# Plot the solution\n",
    "zz, yy = np.meshgrid(np.linspace(-width/2, width/2, Nz+2), np.linspace(-h/2, h/2, Ny+2))\n",
    "\n",
    "# Have to reflect the w vector to match the data format that pcolor expects.\n",
    "# For more information: https://matplotlib.org/stable/api/_as_gen/matplotlib.pyplot.pcolor.html\n",
    "plt.pcolor(zz, yy, w.T)\n",
    "plt.xlabel('$z$')\n",
    "plt.ylabel('$y$')\n",
    "plt.colorbar()"
   ]
  },
  {
   "cell_type": "markdown",
   "id": "845cec92",
   "metadata": {},
   "source": [
    "## 1d)"
   ]
  },
  {
   "cell_type": "code",
   "execution_count": 1,
   "id": "8a69fb12",
   "metadata": {},
   "outputs": [],
   "source": [
    "h = 1\n",
    "width = 1\n",
    "L = 1\n",
    "group = 4*10**6/L"
   ]
  }
 ],
 "metadata": {
  "kernelspec": {
   "display_name": "Python 3 (ipykernel)",
   "language": "python",
   "name": "python3"
  },
  "language_info": {
   "codemirror_mode": {
    "name": "ipython",
    "version": 3
   },
   "file_extension": ".py",
   "mimetype": "text/x-python",
   "name": "python",
   "nbconvert_exporter": "python",
   "pygments_lexer": "ipython3",
   "version": "3.9.6"
  }
 },
 "nbformat": 4,
 "nbformat_minor": 5
}
